{
 "cells": [
  {
   "cell_type": "code",
   "execution_count": 1,
   "metadata": {},
   "outputs": [],
   "source": [
    "import tensorflow as tf"
   ]
  },
  {
   "cell_type": "code",
   "execution_count": 2,
   "metadata": {},
   "outputs": [],
   "source": [
    "from keras.preprocessing.image import ImageDataGenerator"
   ]
  },
  {
   "cell_type": "code",
   "execution_count": 3,
   "metadata": {},
   "outputs": [],
   "source": [
    "from tensorflow.keras.preprocessing.image import ImageDataGenerator"
   ]
  },
  {
   "cell_type": "code",
   "execution_count": 4,
   "metadata": {},
   "outputs": [
    {
     "data": {
      "text/plain": [
       "'2.9.1'"
      ]
     },
     "execution_count": 4,
     "metadata": {},
     "output_type": "execute_result"
    }
   ],
   "source": [
    "tf.__version__"
   ]
  },
  {
   "cell_type": "markdown",
   "metadata": {},
   "source": [
    "# Veri Önişleme"
   ]
  },
  {
   "cell_type": "raw",
   "metadata": {},
   "source": [
    "Eğitim Setinin Ön İşlemesi"
   ]
  },
  {
   "cell_type": "code",
   "execution_count": 5,
   "metadata": {},
   "outputs": [
    {
     "name": "stdout",
     "output_type": "stream",
     "text": [
      "Found 1565 images belonging to 2 classes.\n"
     ]
    }
   ],
   "source": [
    "train_datagen = ImageDataGenerator(rescale = 1./255,\n",
    "                                  shear_range = 0.2,\n",
    "                                  zoom_range = 0.2,\n",
    "                                  horizontal_flip=True)\n",
    "training_set = train_datagen.flow_from_directory('veri/training_set',\n",
    "                                             target_size =(64,64),\n",
    "                                             batch_size =32,\n",
    "                                              class_mode = 'binary')\n",
    "\n"
   ]
  },
  {
   "cell_type": "markdown",
   "metadata": {},
   "source": [
    "Burada resimler üzerinde kırma işlemi uygulanarak 64x64 boyutuna indirgenir. Burada kullanılan parametreler resim işleme ile ilgili parametreleri ifade eder. Batch size'in büyük olması, daha doğru gradyan değerinin hesaplanmasını sağlamaktadır."
   ]
  },
  {
   "cell_type": "raw",
   "metadata": {},
   "source": [
    "Test Setinin Ön İşlemesi"
   ]
  },
  {
   "cell_type": "code",
   "execution_count": 6,
   "metadata": {},
   "outputs": [
    {
     "name": "stdout",
     "output_type": "stream",
     "text": [
      "Found 448 images belonging to 2 classes.\n"
     ]
    }
   ],
   "source": [
    "test_datagen = ImageDataGenerator(rescale = 1./255)\n",
    "test_set = test_datagen.flow_from_directory('veri/test_set',\n",
    "                                           target_size =(64,64),\n",
    "                                           batch_size =32,\n",
    "                                           class_mode ='binary')"
   ]
  },
  {
   "cell_type": "markdown",
   "metadata": {},
   "source": [
    "# CNN Mimarisinin Oluşturulması"
   ]
  },
  {
   "cell_type": "raw",
   "metadata": {},
   "source": [
    "Nesne oluşturulması"
   ]
  },
  {
   "cell_type": "code",
   "execution_count": 7,
   "metadata": {},
   "outputs": [],
   "source": [
    "cnn = tf.keras.models.Sequential()"
   ]
  },
  {
   "cell_type": "code",
   "execution_count": 8,
   "metadata": {},
   "outputs": [],
   "source": [
    "cnn.add(tf.keras.layers.Conv2D(filters=32, kernel_size=3, activation='relu', input_shape=[64,64,3]))"
   ]
  },
  {
   "cell_type": "code",
   "execution_count": 9,
   "metadata": {},
   "outputs": [],
   "source": [
    "cnn.add(tf.keras.layers.MaxPool2D(pool_size=2, strides=2))"
   ]
  },
  {
   "cell_type": "code",
   "execution_count": 10,
   "metadata": {},
   "outputs": [],
   "source": [
    "cnn.add(tf.keras.layers.Conv2D(filters=32, kernel_size=3, activation='relu'))\n",
    "cnn.add(tf.keras.layers.MaxPool2D(pool_size=2, strides=2))"
   ]
  },
  {
   "cell_type": "code",
   "execution_count": 11,
   "metadata": {},
   "outputs": [],
   "source": [
    "cnn.add(tf.keras.layers.Flatten())"
   ]
  },
  {
   "cell_type": "code",
   "execution_count": 12,
   "metadata": {},
   "outputs": [],
   "source": [
    "cnn.add(tf.keras.layers.Dense(units=128, activation='relu'))"
   ]
  },
  {
   "cell_type": "code",
   "execution_count": 13,
   "metadata": {},
   "outputs": [],
   "source": [
    "cnn.add(tf.keras.layers.Dense(units=1,activation='sigmoid'))"
   ]
  },
  {
   "cell_type": "markdown",
   "metadata": {},
   "source": [
    "# Derleme İşlemi"
   ]
  },
  {
   "cell_type": "code",
   "execution_count": 14,
   "metadata": {},
   "outputs": [],
   "source": [
    "cnn.compile(optimizer ='adam', loss ='binary_crossentropy',metrics=['accuracy'])"
   ]
  },
  {
   "cell_type": "markdown",
   "metadata": {},
   "source": [
    "# Eğitim İşlemi"
   ]
  },
  {
   "cell_type": "code",
   "execution_count": 15,
   "metadata": {},
   "outputs": [
    {
     "name": "stdout",
     "output_type": "stream",
     "text": [
      "Epoch 1/50\n",
      "49/49 [==============================] - 5s 86ms/step - loss: 0.3565 - accuracy: 0.8492 - val_loss: 0.1383 - val_accuracy: 0.9509\n",
      "Epoch 2/50\n",
      "49/49 [==============================] - 4s 83ms/step - loss: 0.0580 - accuracy: 0.9872 - val_loss: 0.0245 - val_accuracy: 0.9754\n",
      "Epoch 3/50\n",
      "49/49 [==============================] - 4s 82ms/step - loss: 0.0089 - accuracy: 1.0000 - val_loss: 0.0023 - val_accuracy: 1.0000\n",
      "Epoch 4/50\n",
      "49/49 [==============================] - 5s 97ms/step - loss: 0.0027 - accuracy: 1.0000 - val_loss: 0.0018 - val_accuracy: 1.0000\n",
      "Epoch 5/50\n",
      "49/49 [==============================] - 5s 91ms/step - loss: 0.0013 - accuracy: 1.0000 - val_loss: 0.0011 - val_accuracy: 1.0000\n",
      "Epoch 6/50\n",
      "49/49 [==============================] - 4s 85ms/step - loss: 7.7380e-04 - accuracy: 1.0000 - val_loss: 4.7134e-04 - val_accuracy: 1.0000\n",
      "Epoch 7/50\n",
      "49/49 [==============================] - 4s 90ms/step - loss: 5.7642e-04 - accuracy: 1.0000 - val_loss: 2.3740e-04 - val_accuracy: 1.0000\n",
      "Epoch 8/50\n",
      "49/49 [==============================] - 4s 90ms/step - loss: 4.1656e-04 - accuracy: 1.0000 - val_loss: 2.9791e-04 - val_accuracy: 1.0000\n",
      "Epoch 9/50\n",
      "49/49 [==============================] - 5s 97ms/step - loss: 3.1883e-04 - accuracy: 1.0000 - val_loss: 1.8821e-04 - val_accuracy: 1.0000\n",
      "Epoch 10/50\n",
      "49/49 [==============================] - 5s 104ms/step - loss: 2.7289e-04 - accuracy: 1.0000 - val_loss: 1.8900e-04 - val_accuracy: 1.0000\n",
      "Epoch 11/50\n",
      "49/49 [==============================] - 4s 88ms/step - loss: 2.6244e-04 - accuracy: 1.0000 - val_loss: 1.3297e-04 - val_accuracy: 1.0000\n",
      "Epoch 12/50\n",
      "49/49 [==============================] - 5s 99ms/step - loss: 1.8172e-04 - accuracy: 1.0000 - val_loss: 1.1131e-04 - val_accuracy: 1.0000\n",
      "Epoch 13/50\n",
      "49/49 [==============================] - 5s 98ms/step - loss: 1.4732e-04 - accuracy: 1.0000 - val_loss: 6.4551e-05 - val_accuracy: 1.0000\n",
      "Epoch 14/50\n",
      "49/49 [==============================] - 5s 94ms/step - loss: 1.3338e-04 - accuracy: 1.0000 - val_loss: 1.0884e-04 - val_accuracy: 1.0000\n",
      "Epoch 15/50\n",
      "49/49 [==============================] - 5s 92ms/step - loss: 1.1217e-04 - accuracy: 1.0000 - val_loss: 2.7782e-04 - val_accuracy: 1.0000\n",
      "Epoch 16/50\n",
      "49/49 [==============================] - 5s 97ms/step - loss: 9.1829e-05 - accuracy: 1.0000 - val_loss: 6.4845e-05 - val_accuracy: 1.0000\n",
      "Epoch 17/50\n",
      "49/49 [==============================] - 4s 87ms/step - loss: 8.0989e-05 - accuracy: 1.0000 - val_loss: 5.5923e-05 - val_accuracy: 1.0000\n",
      "Epoch 18/50\n",
      "49/49 [==============================] - 5s 94ms/step - loss: 8.0521e-05 - accuracy: 1.0000 - val_loss: 7.7273e-05 - val_accuracy: 1.0000\n",
      "Epoch 19/50\n",
      "49/49 [==============================] - 4s 91ms/step - loss: 5.6582e-05 - accuracy: 1.0000 - val_loss: 6.7670e-05 - val_accuracy: 1.0000\n",
      "Epoch 20/50\n",
      "49/49 [==============================] - 5s 92ms/step - loss: 5.4945e-05 - accuracy: 1.0000 - val_loss: 6.1385e-05 - val_accuracy: 1.0000\n",
      "Epoch 21/50\n",
      "49/49 [==============================] - 4s 89ms/step - loss: 4.8211e-05 - accuracy: 1.0000 - val_loss: 4.5322e-05 - val_accuracy: 1.0000\n",
      "Epoch 22/50\n",
      "49/49 [==============================] - 5s 100ms/step - loss: 4.8651e-05 - accuracy: 1.0000 - val_loss: 5.9841e-05 - val_accuracy: 1.0000\n",
      "Epoch 23/50\n",
      "49/49 [==============================] - 5s 97ms/step - loss: 3.9058e-05 - accuracy: 1.0000 - val_loss: 4.2937e-05 - val_accuracy: 1.0000\n",
      "Epoch 24/50\n",
      "49/49 [==============================] - 4s 76ms/step - loss: 4.0923e-05 - accuracy: 1.0000 - val_loss: 3.4524e-05 - val_accuracy: 1.0000\n",
      "Epoch 25/50\n",
      "49/49 [==============================] - 3s 70ms/step - loss: 3.0806e-05 - accuracy: 1.0000 - val_loss: 4.9449e-05 - val_accuracy: 1.0000\n",
      "Epoch 26/50\n",
      "49/49 [==============================] - 4s 73ms/step - loss: 3.2927e-05 - accuracy: 1.0000 - val_loss: 3.3036e-05 - val_accuracy: 1.0000\n",
      "Epoch 27/50\n",
      "49/49 [==============================] - 4s 73ms/step - loss: 2.7679e-05 - accuracy: 1.0000 - val_loss: 1.8029e-05 - val_accuracy: 1.0000\n",
      "Epoch 28/50\n",
      "49/49 [==============================] - 4s 74ms/step - loss: 2.5016e-05 - accuracy: 1.0000 - val_loss: 3.0386e-05 - val_accuracy: 1.0000\n",
      "Epoch 29/50\n",
      "49/49 [==============================] - 4s 75ms/step - loss: 2.6139e-05 - accuracy: 1.0000 - val_loss: 3.6974e-05 - val_accuracy: 1.0000\n",
      "Epoch 30/50\n",
      "49/49 [==============================] - 3s 69ms/step - loss: 2.2836e-05 - accuracy: 1.0000 - val_loss: 3.9431e-05 - val_accuracy: 1.0000\n",
      "Epoch 31/50\n",
      "49/49 [==============================] - 3s 69ms/step - loss: 1.9846e-05 - accuracy: 1.0000 - val_loss: 1.8554e-05 - val_accuracy: 1.0000\n",
      "Epoch 32/50\n",
      "49/49 [==============================] - 3s 69ms/step - loss: 1.9154e-05 - accuracy: 1.0000 - val_loss: 1.1735e-05 - val_accuracy: 1.0000\n",
      "Epoch 33/50\n",
      "49/49 [==============================] - 4s 72ms/step - loss: 1.4752e-05 - accuracy: 1.0000 - val_loss: 1.3596e-05 - val_accuracy: 1.0000\n",
      "Epoch 34/50\n",
      "49/49 [==============================] - 3s 70ms/step - loss: 1.2969e-05 - accuracy: 1.0000 - val_loss: 1.2383e-05 - val_accuracy: 1.0000\n",
      "Epoch 35/50\n",
      "49/49 [==============================] - 3s 70ms/step - loss: 1.3121e-05 - accuracy: 1.0000 - val_loss: 7.4808e-06 - val_accuracy: 1.0000\n",
      "Epoch 36/50\n",
      "49/49 [==============================] - 4s 77ms/step - loss: 1.3886e-05 - accuracy: 1.0000 - val_loss: 2.2432e-05 - val_accuracy: 1.0000\n",
      "Epoch 37/50\n",
      "49/49 [==============================] - 4s 76ms/step - loss: 1.2034e-05 - accuracy: 1.0000 - val_loss: 1.3312e-05 - val_accuracy: 1.0000\n",
      "Epoch 38/50\n",
      "49/49 [==============================] - 4s 73ms/step - loss: 1.0080e-05 - accuracy: 1.0000 - val_loss: 1.3138e-05 - val_accuracy: 1.0000\n",
      "Epoch 39/50\n",
      "49/49 [==============================] - 4s 72ms/step - loss: 1.0848e-05 - accuracy: 1.0000 - val_loss: 1.0793e-05 - val_accuracy: 1.0000\n",
      "Epoch 40/50\n",
      "49/49 [==============================] - 3s 70ms/step - loss: 9.9501e-06 - accuracy: 1.0000 - val_loss: 1.0053e-05 - val_accuracy: 1.0000\n",
      "Epoch 41/50\n",
      "49/49 [==============================] - 4s 76ms/step - loss: 1.0205e-05 - accuracy: 1.0000 - val_loss: 1.2579e-05 - val_accuracy: 1.0000\n",
      "Epoch 42/50\n",
      "49/49 [==============================] - 4s 77ms/step - loss: 8.0900e-06 - accuracy: 1.0000 - val_loss: 5.5360e-06 - val_accuracy: 1.0000\n",
      "Epoch 43/50\n",
      "49/49 [==============================] - 3s 66ms/step - loss: 6.7301e-06 - accuracy: 1.0000 - val_loss: 7.0864e-06 - val_accuracy: 1.0000\n",
      "Epoch 44/50\n",
      "49/49 [==============================] - 3s 65ms/step - loss: 6.8878e-06 - accuracy: 1.0000 - val_loss: 6.9633e-06 - val_accuracy: 1.0000\n",
      "Epoch 45/50\n",
      "49/49 [==============================] - 4s 83ms/step - loss: 7.1252e-06 - accuracy: 1.0000 - val_loss: 6.2978e-06 - val_accuracy: 1.0000\n",
      "Epoch 46/50\n",
      "49/49 [==============================] - 4s 73ms/step - loss: 5.9751e-06 - accuracy: 1.0000 - val_loss: 5.0878e-06 - val_accuracy: 1.0000\n",
      "Epoch 47/50\n",
      "49/49 [==============================] - 4s 71ms/step - loss: 5.3856e-06 - accuracy: 1.0000 - val_loss: 7.5168e-06 - val_accuracy: 1.0000\n",
      "Epoch 48/50\n",
      "49/49 [==============================] - 4s 79ms/step - loss: 5.8307e-06 - accuracy: 1.0000 - val_loss: 3.6840e-06 - val_accuracy: 1.0000\n",
      "Epoch 49/50\n",
      "49/49 [==============================] - 4s 72ms/step - loss: 5.0665e-06 - accuracy: 1.0000 - val_loss: 2.8483e-06 - val_accuracy: 1.0000\n",
      "Epoch 50/50\n",
      "49/49 [==============================] - 3s 70ms/step - loss: 4.2291e-06 - accuracy: 1.0000 - val_loss: 3.1312e-06 - val_accuracy: 1.0000\n"
     ]
    },
    {
     "data": {
      "text/plain": [
       "<keras.callbacks.History at 0x7ff208f32310>"
      ]
     },
     "execution_count": 15,
     "metadata": {},
     "output_type": "execute_result"
    }
   ],
   "source": [
    "cnn.fit(x = training_set, validation_data = test_set, epochs= 50)"
   ]
  },
  {
   "cell_type": "code",
   "execution_count": 16,
   "metadata": {},
   "outputs": [],
   "source": [
    "import pandas as pd"
   ]
  },
  {
   "cell_type": "code",
   "execution_count": 17,
   "metadata": {},
   "outputs": [],
   "source": [
    "historyData = pd.DataFrame(cnn.history.history)  # Let's take the model's history data to see loss-valueLoss graph"
   ]
  },
  {
   "cell_type": "code",
   "execution_count": 18,
   "metadata": {},
   "outputs": [
    {
     "data": {
      "text/plain": [
       "<AxesSubplot:>"
      ]
     },
     "execution_count": 18,
     "metadata": {},
     "output_type": "execute_result"
    },
    {
     "data": {
      "image/png": "[encoded data removed]",
      "text/plain": [
       "<Figure size 432x288 with 1 Axes>"
      ]
     },
     "metadata": {
      "needs_background": "light"
     },
     "output_type": "display_data"
    }
   ],
   "source": [
    "historyData[[\"loss\", \"val_loss\"]].plot()"
   ]
  },
  {
   "cell_type": "markdown",
   "metadata": {},
   "source": [
    "# Tahmin Oluşturmak"
   ]
  },
  {
   "cell_type": "code",
   "execution_count": 19,
   "metadata": {},
   "outputs": [],
   "source": [
    "import numpy as np\n",
    "from keras.preprocessing import image\n",
    "test_image = image.load_img('veri/single_prediction/2.jpg', target_size = (64, 64))\n",
    "test_image = image.img_to_array(test_image)\n",
    "test_image = np.expand_dims(test_image, axis = 0)\n",
    "result = cnn.predict(test_image)\n",
    "training_set.class_indices\n",
    "if result[0][0] == 1:\n",
    "    prediction = 'Taş Bitkisi'\n",
    "else:\n",
    "    prediction = 'Para Bitkisi'"
   ]
  },
  {
   "cell_type": "code",
   "execution_count": 20,
   "metadata": {},
   "outputs": [
    {
     "name": "stdout",
     "output_type": "stream",
     "text": [
      "Para Bitkisi\n"
     ]
    }
   ],
   "source": [
    "print(prediction)"
   ]
  }
 ],
 "metadata": {
  "kernelspec": {
   "display_name": "Python 3",
   "language": "python",
   "name": "python3"
  },
  "language_info": {
   "codemirror_mode": {
    "name": "ipython",
    "version": 3
   },
   "file_extension": ".py",
   "mimetype": "text/x-python",
   "name": "python",
   "nbconvert_exporter": "python",
   "pygments_lexer": "ipython3",
   "version": "3.8.5"
  }
 },
 "nbformat": 4,
 "nbformat_minor": 4
}
